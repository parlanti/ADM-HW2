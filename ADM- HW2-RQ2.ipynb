{
 "cells": [
  {
   "cell_type": "code",
   "execution_count": 1,
   "id": "4765c7a7",
   "metadata": {},
   "outputs": [],
   "source": [
    "import pandas as pd\n",
    "import numpy as np\n",
    "import json\n",
    "import matplotlib.pyplot as plt\n",
    "from functools import reduce\n",
    "pd.set_option('display.max_columns', None)\n",
    "\n",
    "from tabulate import tabulate"
   ]
  },
  {
   "cell_type": "code",
   "execution_count": 2,
   "id": "edcc60e9",
   "metadata": {},
   "outputs": [],
   "source": [
    "filepath_books = \"/Users/ortalhadad/Desktop/Sapienza/Year 1/Semester A/ADM/HW2/lighter_books.json\"\n",
    "filepath_authors = \"/Users/ortalhadad/Desktop/Sapienza/Year 1/Semester A/ADM/HW2/lighter_authors.json\""
   ]
  },
  {
   "cell_type": "code",
   "execution_count": 3,
   "id": "778933c2",
   "metadata": {},
   "outputs": [],
   "source": [
    "dataset_authors = pd.read_json(filepath_authors, lines=True)\n",
    "chunks = pd.read_json(filepath_books, lines = True, chunksize = 10000)"
   ]
  },
  {
   "cell_type": "code",
   "execution_count": 6,
   "id": "f662442a",
   "metadata": {
    "scrolled": true
   },
   "outputs": [
    {
     "data": {
      "text/html": [
       "<div>\n",
       "<style scoped>\n",
       "    .dataframe tbody tr th:only-of-type {\n",
       "        vertical-align: middle;\n",
       "    }\n",
       "\n",
       "    .dataframe tbody tr th {\n",
       "        vertical-align: top;\n",
       "    }\n",
       "\n",
       "    .dataframe thead th {\n",
       "        text-align: right;\n",
       "    }\n",
       "</style>\n",
       "<table border=\"1\" class=\"dataframe\">\n",
       "  <thead>\n",
       "    <tr style=\"text-align: right;\">\n",
       "      <th></th>\n",
       "      <th>number_of_books</th>\n",
       "      <th>name</th>\n",
       "    </tr>\n",
       "  </thead>\n",
       "  <tbody>\n",
       "    <tr>\n",
       "      <th>7646</th>\n",
       "      <td>1530</td>\n",
       "      <td>Chuck Dixon</td>\n",
       "    </tr>\n",
       "    <tr>\n",
       "      <th>3114</th>\n",
       "      <td>1530</td>\n",
       "      <td>Stan Lee</td>\n",
       "    </tr>\n",
       "    <tr>\n",
       "      <th>23792</th>\n",
       "      <td>1530</td>\n",
       "      <td>Agatha Christie</td>\n",
       "    </tr>\n",
       "    <tr>\n",
       "      <th>4760</th>\n",
       "      <td>1530</td>\n",
       "      <td>Isaac Asimov</td>\n",
       "    </tr>\n",
       "    <tr>\n",
       "      <th>3201</th>\n",
       "      <td>1530</td>\n",
       "      <td>Enid Blyton</td>\n",
       "    </tr>\n",
       "    <tr>\n",
       "      <th>...</th>\n",
       "      <td>...</td>\n",
       "      <td>...</td>\n",
       "    </tr>\n",
       "    <tr>\n",
       "      <th>225259</th>\n",
       "      <td>1</td>\n",
       "      <td>James D. Roumeliotis</td>\n",
       "    </tr>\n",
       "    <tr>\n",
       "      <th>351766</th>\n",
       "      <td>1</td>\n",
       "      <td>James           Ross</td>\n",
       "    </tr>\n",
       "    <tr>\n",
       "      <th>123922</th>\n",
       "      <td>0</td>\n",
       "      <td>Kamryn Hart</td>\n",
       "    </tr>\n",
       "    <tr>\n",
       "      <th>57720</th>\n",
       "      <td>0</td>\n",
       "      <td>L. Adams Beck</td>\n",
       "    </tr>\n",
       "    <tr>\n",
       "      <th>43449</th>\n",
       "      <td>0</td>\n",
       "      <td>W.H. James Weale</td>\n",
       "    </tr>\n",
       "  </tbody>\n",
       "</table>\n",
       "<p>351767 rows × 2 columns</p>\n",
       "</div>"
      ],
      "text/plain": [
       "        number_of_books                  name\n",
       "7646               1530           Chuck Dixon\n",
       "3114               1530              Stan Lee\n",
       "23792              1530       Agatha Christie\n",
       "4760               1530          Isaac Asimov\n",
       "3201               1530           Enid Blyton\n",
       "...                 ...                   ...\n",
       "225259                1  James D. Roumeliotis\n",
       "351766                1  James           Ross\n",
       "123922                0           Kamryn Hart\n",
       "57720                 0         L. Adams Beck\n",
       "43449                 0      W.H. James Weale\n",
       "\n",
       "[351767 rows x 2 columns]"
      ]
     },
     "execution_count": 6,
     "metadata": {},
     "output_type": "execute_result"
    }
   ],
   "source": [
    "## RQ2- 1: Plot the number of books for each author in descending order.\n",
    "\n",
    "df1 = dataset_authors[['book_ids', 'name']].copy()\n",
    "df1['book_ids'] = df1['book_ids'].apply(lambda x: list(set(x))).str.len()\n",
    "df1.sort_values(by='book_ids', ascending=False, inplace=True)\n",
    "df1.rename(columns={\"book_ids\": \"number_of_books\"}, inplace=True)\n",
    "df1\n"
   ]
  },
  {
   "cell_type": "code",
   "execution_count": 5,
   "id": "c51119f4",
   "metadata": {},
   "outputs": [
    {
     "name": "stdout",
     "output_type": "stream",
     "text": [
      "                                               title  ratings_count\n",
      "0  Harry Potter und der Stein der Weisen (Harry P...        7400639\n",
      "1  Harry Potter und der Stein der Weisen (Harry P...        7400639\n"
     ]
    }
   ],
   "source": [
    "## RQ2- 2: Which book has the highest number of reviews?\n",
    "\n",
    "chunks = pd.read_json(filepath_books, lines = True, chunksize = 10000)\n",
    "\n",
    "max_rating = 0\n",
    "df2 = pd.DataFrame()\n",
    "\n",
    "for chunk in chunks:\n",
    "    df_review = chunk[['title', 'ratings_count']].copy()\n",
    "    max_rating_in_chunk = df_review['ratings_count'].max()\n",
    "    if max_rating_in_chunk > max_rating:\n",
    "        max_rating = max_rating_in_chunk\n",
    "        df2 = df_review.loc[df_review['ratings_count'] == max_rating]\n",
    "    if max_rating_in_chunk == max_rating:\n",
    "        new_row = df_review.loc[df_review['ratings_count'] == max_rating]\n",
    "        df2 = df2.append(new_row, ignore_index=True)\n",
    "\n",
    "print(df2)"
   ]
  },
  {
   "cell_type": "markdown",
   "id": "ea64540e",
   "metadata": {},
   "source": [
    "## RQ2-2: Report\n",
    "\n",
    "We observed that the book with highest number of reviews has two versions,   \n",
    "therefore when we print the books with maximal revies we got the same book twice."
   ]
  },
  {
   "cell_type": "code",
   "execution_count": 8,
   "id": "86036618",
   "metadata": {},
   "outputs": [
    {
     "name": "stdout",
     "output_type": "stream",
     "text": [
      "                                                     title  average_rating  \\\n",
      "4851446  Optimized Nutrition:: A strategic guide for th...             5.0   \n",
      "5782558  Optimized Nutrition Vol. 4: Building a Bigger ...             5.0   \n",
      "6133847  Optimized Nutrition Vol. 5 Building a huge big...             5.0   \n",
      "6367886                         Optimized Nutrition Vol. 6             5.0   \n",
      "6567263                         Optimized Nutrition Vol. 7             5.0   \n",
      "6909719  Optimized Nutrition Vol. 8: Building Anabolic ...             5.0   \n",
      "6408367                                               Mora             5.0   \n",
      "6284623              Children's Virtues: N is for Nobility             5.0   \n",
      "6111305       Children's Virtues N is for Nobility Book 14             5.0   \n",
      "3463729  A Muezzin from the Tower of Darkness Cries: Tr...             5.0   \n",
      "\n",
      "         ratings_count  \n",
      "4851446            216  \n",
      "5782558            211  \n",
      "6133847            174  \n",
      "6367886            169  \n",
      "6567263             69  \n",
      "6909719             63  \n",
      "6408367             55  \n",
      "6284623             53  \n",
      "6111305             53  \n",
      "3463729             53  \n",
      "                                                     title  average_rating  \\\n",
      "526                                     A More Perfect Way             0.0   \n",
      "4343938  The Final Appearance of America's Favorite Gir...             0.0   \n",
      "4343971                                 The Gods Who Stunk             0.0   \n",
      "4344032                               صناعة العداء للإسلام             0.0   \n",
      "4344046                          Death (Lilith Trilogy #1)             0.0   \n",
      "4344102                     Vietnam Mekong Delta Scrapbook             0.0   \n",
      "4344131                            YARNS OF AN OLD MARINER             0.0   \n",
      "4344176  L'Antiquité dévoilée par ses usages ou Examen ...             0.0   \n",
      "4344210                                        Ride Back 7             0.0   \n",
      "4344215                                        Ride Back 8             0.0   \n",
      "\n",
      "         ratings_count  \n",
      "526                  0  \n",
      "4343938              0  \n",
      "4343971              0  \n",
      "4344032              0  \n",
      "4344046              0  \n",
      "4344102              0  \n",
      "4344131              0  \n",
      "4344176              0  \n",
      "4344210              0  \n",
      "4344215              0  \n"
     ]
    }
   ],
   "source": [
    "## RQ2- 3: Which are the top ten and ten worst books concerning the average score?\n",
    "\n",
    "chunks = pd.read_json(filepath_books, lines = True, chunksize = 10000)\n",
    "\n",
    "top_average_score = []\n",
    "worst_average_score = []\n",
    "\n",
    "for chunk in chunks:\n",
    "    df3 = chunk[['title', 'average_rating', 'ratings_count']].copy()\n",
    "    top_average_score.append(df3.nlargest(10, 'average_rating', keep='all'))\n",
    "    worst_average_score.append(df3.nsmallest(10, 'average_rating', keep='all'))\n",
    "    \n",
    "top_average_score = pd.concat(top_average_score)\n",
    "worst_average_score = pd.concat(worst_average_score)\n",
    "\n",
    "top_average_score.sort_values(by='ratings_count', ascending=False, inplace=True)\n",
    "worst_average_score.sort_values(by='ratings_count', ascending=False, inplace=True)\n",
    "\n",
    "final_df_top = top_average_score.nlargest(10, 'average_rating', keep='first')\n",
    "final_df_worst = worst_average_score.nsmallest(10, 'average_rating', keep='first')\n",
    "print(final_df_top)\n",
    "print(final_df_worst)"
   ]
  },
  {
   "cell_type": "markdown",
   "id": "916f8d0f",
   "metadata": {},
   "source": [
    "## RQ2- 3: Report\n",
    "We noticed that there are many books with the highest score - 5 and the lowest score - 0 (much more than 10),   \n",
    "Therefore, since we only asked to provide 10 books in each category,   \n",
    "we decided to take the 10 that also have the **highest amout of reviews.**   \n",
    "\n",
    "Hence from each chunk we take the 10 books with highest score.  \n",
    "If there are more than 10 with same highest score we take all books by using:  \n",
    "df1.nlargest(10, 'average_rating', keep='all')  \n",
    "after we took the highest 10 from each chunk, we take the 10 books with highest number of reviews by using:  \n",
    "df1.nlargest(10, 'average_rating', keep='first')  \n"
   ]
  },
  {
   "cell_type": "code",
   "execution_count": 17,
   "id": "e1356b91",
   "metadata": {},
   "outputs": [
    {
     "name": "stdout",
     "output_type": "stream",
     "text": [
      "+----+------------+-------------+\n",
      "|    | language   |   books_num |\n",
      "|----+------------+-------------|\n",
      "|  4 | Nan        |     4340264 |\n",
      "|  0 | English    |     1531826 |\n",
      "|  5 | Other      |      623613 |\n",
      "|  2 | German     |      148087 |\n",
      "|  6 | Spanish    |      137292 |\n",
      "|  3 | Italian    |      125287 |\n",
      "|  1 | French     |      121062 |\n",
      "+----+------------+-------------+\n"
     ]
    },
    {
     "data": {
      "image/png": "[encoded data removed]",
      "text/plain": [
       "<Figure size 1080x1080 with 1 Axes>"
      ]
     },
     "metadata": {},
     "output_type": "display_data"
    }
   ],
   "source": [
    "## RQ2- 4: Explore the different languages in the book’s dataset\n",
    "\n",
    "def language_translate(language):\n",
    "    if language == 'English' or language == 'eng' or language == 'en' or language == 'en-US' or language == 'en-GB' or language == 'en-CA' or language == 'en-IN':\n",
    "        return 'English'\n",
    "    elif language == 'ger':\n",
    "        return 'German'\n",
    "    elif language == 'spa':\n",
    "        return 'Spanish'\n",
    "    elif language == 'ita':\n",
    "        return 'Italian'\n",
    "    elif language == 'fre':\n",
    "        return 'French'\n",
    "    elif language == '':\n",
    "        return 'Nan'\n",
    "    else:\n",
    "        return 'Other'\n",
    "\n",
    "\n",
    "chunks = pd.read_json(filepath_books, lines = True, chunksize = 10000)\n",
    "final_df = pd.DataFrame()\n",
    "\n",
    "for chunk in chunks:\n",
    "    df4 = chunk[['language']].copy()\n",
    "    df4['language'] = df4['language'].astype(str)\n",
    "    df4['language'] = df4['language'].map(language_translate)\n",
    "    grouped = df4.groupby('language').size().reset_index(name='count')\n",
    "    final_df = final_df.append(grouped)\n",
    "    \n",
    "grouped1 = final_df.groupby('language')['count'].sum().reset_index(name='books_num')\n",
    "final_df = grouped1\n",
    "final_df.sort_values(by='books_num', ascending=False, inplace=True)\n",
    "print(tabulate(final_df, headers=\"keys\", tablefmt=\"psql\"))\n",
    "\n",
    "plt.figure(figsize=(15, 15))\n",
    "y = np.array(final_df['books_num'])\n",
    "mylabels = list(final_df['language'])\n",
    "\n",
    "plt.pie(y, labels = mylabels, startangle = 90, autopct='%1.1f%%')\n",
    "plt.legend()\n",
    "plt.show() "
   ]
  },
  {
   "cell_type": "markdown",
   "id": "f0ddd259",
   "metadata": {},
   "source": [
    "## RQ2- 4: Report\n",
    "\n",
    "After exploring the data we saw we have more than 200 different languages in our books dataset.  \n",
    "We decided to show how these languages are distributed according to the top 5 languages in the dataset.  \n",
    "After finding those top 5 languages we had to convert the names of all languages,  \n",
    "since Englisg for example has 5 different names which all stand for it.  \n",
    "In our chart we also plot 'NaN'- which stand for books that has no language value\n",
    "and 'Other' which stand for all other languages in our dataset."
   ]
  },
  {
   "cell_type": "code",
   "execution_count": 19,
   "id": "e37c35e5",
   "metadata": {
    "scrolled": false
   },
   "outputs": [
    {
     "name": "stdout",
     "output_type": "stream",
     "text": [
      "1810335\n"
     ]
    }
   ],
   "source": [
    "##RQ2- 5: How many books have more than 250 pages?\n",
    "chunks = pd.read_json(filepath_books, lines = True, chunksize = 10000)\n",
    "\n",
    "count = 0\n",
    "for chunk in chunks:\n",
    "    df5 = chunk[['num_pages']].copy()\n",
    "    df5['num_pages'] = pd.to_numeric(df5['num_pages'], errors='coerce')\n",
    "    count += df5[df5['num_pages'] > 250].shape[0]\n",
    "\n",
    "print(count)"
   ]
  },
  {
   "cell_type": "code",
   "execution_count": 18,
   "id": "878f8827",
   "metadata": {},
   "outputs": [
    {
     "data": {
      "image/png": "[encoded data removed]",
      "text/plain": [
       "<Figure size 720x720 with 1 Axes>"
      ]
     },
     "metadata": {
      "needs_background": "light"
     },
     "output_type": "display_data"
    }
   ],
   "source": [
    "##RQ2- 6: Plot the distribution of the fans count for the 50 most prolific authors\n",
    "\n",
    "import matplotlib.pyplot as plt\n",
    "\n",
    "def calc_pos(value: int) -> int:\n",
    "    if value <= 100:\n",
    "        return 0\n",
    "    if value > 100 and value <= 500:\n",
    "        return 1\n",
    "    if value > 500 and value <= 1000:\n",
    "        return 2\n",
    "    if value > 1000 and value <= 5000:\n",
    "        return 3\n",
    "    if value > 5000 and value <= 10000:\n",
    "        return 4\n",
    "    if value > 10000 and value <= 20000:\n",
    "        return 5\n",
    "    if value > 20000 and value <= 100000:\n",
    "        return 6\n",
    "    if value > 100000 and value <= 1000000:\n",
    "        return 7\n",
    "    \n",
    "hist = np.zeros(8)   \n",
    "df6 = dataset_authors[['book_ids', 'fans_count']].copy()\n",
    "df6.loc[:, 'book_ids'] = df6['book_ids'].str.len()\n",
    "df6.sort_values(by='book_ids', ascending=False, inplace=True)\n",
    "df6 = df6.head(50)\n",
    "data = df6['fans_count']\n",
    "for i in data:\n",
    "    hist[calc_pos(i)] += 1\n",
    "\n",
    "\n",
    "# x-coordinates of left sides of bars  \n",
    "left = [1, 2, 3, 4, 5, 6, 7, 8] \n",
    "\n",
    "# labels for bars \n",
    "tick_label = ['<100', '<500', '<1,000', '<5,000', '<10,000', '<20,000', '<100,000', '<1,000,000'] \n",
    "  \n",
    "# plotting a bar chart\n",
    "plt.figure(figsize=(10, 10))\n",
    "plt.bar(left, hist, tick_label = tick_label, \n",
    "        width = 0.8, color = ['green']) \n",
    "  \n",
    "# naming the x-axis \n",
    "plt.xlabel('Fans') \n",
    "# naming the y-axis \n",
    "plt.ylabel('Authors') \n",
    "# plot title \n",
    "plt.title('Fans distribution for the 50 most prolific authors') \n",
    "# function to show the plot \n",
    "plt.show() "
   ]
  },
  {
   "cell_type": "markdown",
   "id": "9503ffb3",
   "metadata": {},
   "source": [
    "## RQ2- 6: Report\n",
    "\n",
    "##### We presented the distribution according to the groups that seemed most significant to us.\n",
    "##### We chose to divide the autors into the following groups:\n",
    "1. Authors with less than 100 fans\n",
    "2. Authors with less than 500 fans and more than 100\n",
    "3. Authors with less than 1000 fans and more than 500\n",
    "4. Authors with less than 5000 fans and more than 1000\n",
    "5. Authors with less than 10000 fans and more than 20000\n",
    "6. Authors with less than 100000 fans and more than 20000\n",
    "7. Authors with less than 1000000 fans and more than 100000\n"
   ]
  }
 ],
 "metadata": {
  "kernelspec": {
   "display_name": "Python 3 (ipykernel)",
   "language": "python",
   "name": "python3"
  },
  "language_info": {
   "codemirror_mode": {
    "name": "ipython",
    "version": 3
   },
   "file_extension": ".py",
   "mimetype": "text/x-python",
   "name": "python",
   "nbconvert_exporter": "python",
   "pygments_lexer": "ipython3",
   "version": "3.9.7"
  }
 },
 "nbformat": 4,
 "nbformat_minor": 5
}
