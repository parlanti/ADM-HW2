{
 "cells": [
  {
   "cell_type": "markdown",
   "id": "eab64e5f",
   "metadata": {},
   "source": [
    "## Part- 1\n",
    "\n",
    "The following code solve the problem:"
   ]
  },
  {
   "cell_type": "code",
   "execution_count": 1,
   "id": "1aa1dd9b",
   "metadata": {},
   "outputs": [],
   "source": [
    "def library():\n",
    "    n = int(input())\n",
    "    shelf = []\n",
    "    for i in range(n):\n",
    "        command = input().split()\n",
    "        direction = command[0]\n",
    "        id_book = int(command[1])\n",
    "        if direction == 'R':\n",
    "            shelf.append(id_book)\n",
    "        elif direction == 'L':\n",
    "            shelf.insert(0, id_book)\n",
    "        else:\n",
    "            L_books = shelf.index(id_book)\n",
    "            R_books = len(shelf) - L_books -1\n",
    "            print(min(L_books, R_books))"
   ]
  },
  {
   "cell_type": "markdown",
   "id": "04fc981d",
   "metadata": {},
   "source": [
    "## Part- 2\n",
    "\n",
    "According to ChatGPT the code's time complexity (the Big O notation) is O(n*x)-  \n",
    "where n is the number of the boss's instructions and x is the number of books on the shelf.   \n",
    "I believe that this answer is not accurate according to the following considerations:  \n",
    "For each line of code- we compute the running time:    \n",
    "**Line 1**: n = int(input()) - constant time O(1)  \n",
    "**Line 2**: shelf = [] -constant time O(1)  \n",
    "**Line 3**: for i in range(n): -The code enters a loop of size n O(n)  \n",
    "Within the Loop:  \n",
    "      **Line 4**: command = input().split() -constant time O(1)  \n",
    "      **Line 5**: direction = command[0] - constant time O(1)  \n",
    "      **Line 6**: id = int(command[1]) - constant time O(1)  \n",
    "      **Line 7**: if direction == ‘R': - constant time O(1)  \n",
    "                  **Line 8**: shelf.append(id) - This operation has an average time complexity of O(1)   \n",
    "                  as it usually involves adding an element to the end of the list.  \n",
    "      **Line 9**: elif direction == ‘L': - constant time O(1)  \n",
    "                  **Line 10**: shelf.insert(0, id) - This operation however has an average time complexity of   \n",
    "                  O(x), where x is the number of elements in the list, because it needs to shift all existing   \n",
    "                  elements to make room at the beginning.  \n",
    "      **Line 11**: else: - constant time O(1)  \n",
    "                   **Line 12**:  L_books = shelf.index(id) -This operation has a time complexity of O(x),   \n",
    "                   where x is the number of elements in the list, because it needs to search through the    \n",
    "                   list to find the index of id.  \n",
    "                   **Line 13**: R_books = len(shelf) - L_books -1 - basic arithmetic operations and has a        \n",
    "                   constant time complexity O(1).  \n",
    "                   **Line 14**:  print(min(L_books, R_books)) - constant time O(1)  \n",
    "\n",
    "Note the x is roughly equal to n since almost in each command we add a new book to the shelf.  \n",
    "Also n/2 <= x <= n - since it is guarantee that if a type 3 instruction appear for a book with a specific ID,   \n",
    "the book has already been placed on the shelf.  \n",
    "Therefore we get O(n) * O(n) = O(n^2)  \n"
   ]
  },
  {
   "cell_type": "markdown",
   "id": "36fdf3db",
   "metadata": {},
   "source": [
    "## Part- 3\n",
    "\n",
    "The algorithm proposed in (1.) is not the optimal one to produce the required output.  \n",
    "The following code solve the problem in optimal time:\n"
   ]
  },
  {
   "cell_type": "code",
   "execution_count": 6,
   "id": "1b56a590",
   "metadata": {},
   "outputs": [],
   "source": [
    "def library():\n",
    "    n = int(input())\n",
    "    shelf = []\n",
    "    index_table = [None] * n\n",
    "    indexR = 1\n",
    "    indexL = -1\n",
    "    for i in range(n):\n",
    "        command = input().split()\n",
    "        direction = command[0]\n",
    "        id_book = int(command[1])\n",
    "        if direction == 'R':\n",
    "            shelf.append(id_book)\n",
    "            index_table[id_book] = indexR\n",
    "            indexR += 1\n",
    "        elif direction == 'L':\n",
    "            shelf.insert(0, id_book)\n",
    "            index_table[id_book] = -indexL\n",
    "            indexL -= 1\n",
    "        else:\n",
    "            max_i = max(x for x in index_table if x is not None)\n",
    "            min_i = min(x for x in index_table if x is not None)\n",
    "            if index_table[id_book] > 0:\n",
    "                L_books = index_table[id_book] - min_i - 1\n",
    "                R_books = max_i - index_table[id_book]\n",
    "            else:\n",
    "                L_books = index_table[id_book] - min_i\n",
    "                R_books = max_i - index_table[id_book] - 1\n",
    "            print(min(L_books, R_books))"
   ]
  },
  {
   "cell_type": "markdown",
   "id": "5198137f",
   "metadata": {},
   "source": [
    "Note that we have a loop of size n and all operations inside the loop are of O(1).  \n",
    "Therefore the total running time is O(n).  \n",
    "In this algorithm we used more memory (additional array for indexes) in order to reduce the running time."
   ]
  }
 ],
 "metadata": {
  "kernelspec": {
   "display_name": "Python 3 (ipykernel)",
   "language": "python",
   "name": "python3"
  },
  "language_info": {
   "codemirror_mode": {
    "name": "ipython",
    "version": 3
   },
   "file_extension": ".py",
   "mimetype": "text/x-python",
   "name": "python",
   "nbconvert_exporter": "python",
   "pygments_lexer": "ipython3",
   "version": "3.9.7"
  }
 },
 "nbformat": 4,
 "nbformat_minor": 5
}
